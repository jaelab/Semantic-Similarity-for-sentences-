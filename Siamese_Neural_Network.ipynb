{
 "cells": [
  {
   "cell_type": "markdown",
   "metadata": {},
   "source": [
    "# Read data"
   ]
  },
  {
   "cell_type": "code",
   "execution_count": 1,
   "metadata": {},
   "outputs": [],
   "source": [
    "import pandas as pd"
   ]
  },
  {
   "cell_type": "markdown",
   "metadata": {},
   "source": [
    "### Read train data"
   ]
  },
  {
   "cell_type": "code",
   "execution_count": 2,
   "metadata": {},
   "outputs": [
    {
     "data": {
      "text/html": [
       "<div>\n",
       "<style scoped>\n",
       "    .dataframe tbody tr th:only-of-type {\n",
       "        vertical-align: middle;\n",
       "    }\n",
       "\n",
       "    .dataframe tbody tr th {\n",
       "        vertical-align: top;\n",
       "    }\n",
       "\n",
       "    .dataframe thead th {\n",
       "        text-align: right;\n",
       "    }\n",
       "</style>\n",
       "<table border=\"1\" class=\"dataframe\">\n",
       "  <thead>\n",
       "    <tr style=\"text-align: right;\">\n",
       "      <th></th>\n",
       "      <th>sentence1</th>\n",
       "      <th>sentence2</th>\n",
       "      <th>score</th>\n",
       "      <th>id</th>\n",
       "    </tr>\n",
       "  </thead>\n",
       "  <tbody>\n",
       "    <tr>\n",
       "      <td>0</td>\n",
       "      <td>A plane is taking off.</td>\n",
       "      <td>An air plane is taking off.</td>\n",
       "      <td>5.00</td>\n",
       "      <td>0</td>\n",
       "    </tr>\n",
       "    <tr>\n",
       "      <td>1</td>\n",
       "      <td>A man is playing a large flute.</td>\n",
       "      <td>A man is playing a flute.</td>\n",
       "      <td>3.80</td>\n",
       "      <td>1</td>\n",
       "    </tr>\n",
       "    <tr>\n",
       "      <td>2</td>\n",
       "      <td>A man is spreading shreded cheese on a pizza.</td>\n",
       "      <td>A man is spreading shredded cheese on an uncoo...</td>\n",
       "      <td>3.80</td>\n",
       "      <td>2</td>\n",
       "    </tr>\n",
       "    <tr>\n",
       "      <td>3</td>\n",
       "      <td>Three men are playing chess.</td>\n",
       "      <td>Two men are playing chess.</td>\n",
       "      <td>2.60</td>\n",
       "      <td>3</td>\n",
       "    </tr>\n",
       "    <tr>\n",
       "      <td>4</td>\n",
       "      <td>A man is playing the cello.</td>\n",
       "      <td>A man seated is playing the cello.</td>\n",
       "      <td>4.25</td>\n",
       "      <td>4</td>\n",
       "    </tr>\n",
       "  </tbody>\n",
       "</table>\n",
       "</div>"
      ],
      "text/plain": [
       "                                       sentence1  \\\n",
       "0                         A plane is taking off.   \n",
       "1                A man is playing a large flute.   \n",
       "2  A man is spreading shreded cheese on a pizza.   \n",
       "3                   Three men are playing chess.   \n",
       "4                    A man is playing the cello.   \n",
       "\n",
       "                                           sentence2  score  id  \n",
       "0                        An air plane is taking off.   5.00   0  \n",
       "1                          A man is playing a flute.   3.80   1  \n",
       "2  A man is spreading shredded cheese on an uncoo...   3.80   2  \n",
       "3                         Two men are playing chess.   2.60   3  \n",
       "4                 A man seated is playing the cello.   4.25   4  "
      ]
     },
     "execution_count": 2,
     "metadata": {},
     "output_type": "execute_result"
    }
   ],
   "source": [
    "train_filename = \"dataset/sts-b_train.csv\"\n",
    "data_train = pd.read_csv(train_filename)\n",
    "data_train.head()"
   ]
  },
  {
   "cell_type": "markdown",
   "metadata": {},
   "source": [
    "### Test data"
   ]
  },
  {
   "cell_type": "code",
   "execution_count": 3,
   "metadata": {},
   "outputs": [
    {
     "data": {
      "text/html": [
       "<div>\n",
       "<style scoped>\n",
       "    .dataframe tbody tr th:only-of-type {\n",
       "        vertical-align: middle;\n",
       "    }\n",
       "\n",
       "    .dataframe tbody tr th {\n",
       "        vertical-align: top;\n",
       "    }\n",
       "\n",
       "    .dataframe thead th {\n",
       "        text-align: right;\n",
       "    }\n",
       "</style>\n",
       "<table border=\"1\" class=\"dataframe\">\n",
       "  <thead>\n",
       "    <tr style=\"text-align: right;\">\n",
       "      <th></th>\n",
       "      <th>id</th>\n",
       "      <th>sentence1</th>\n",
       "      <th>sentence2</th>\n",
       "    </tr>\n",
       "  </thead>\n",
       "  <tbody>\n",
       "    <tr>\n",
       "      <td>0</td>\n",
       "      <td>100000</td>\n",
       "      <td>A man with a hard hat is dancing.</td>\n",
       "      <td>A man wearing a hard hat is dancing.</td>\n",
       "    </tr>\n",
       "    <tr>\n",
       "      <td>1</td>\n",
       "      <td>100001</td>\n",
       "      <td>A young child is riding a horse.</td>\n",
       "      <td>A child is riding a horse.</td>\n",
       "    </tr>\n",
       "    <tr>\n",
       "      <td>2</td>\n",
       "      <td>100002</td>\n",
       "      <td>A man is feeding a mouse to a snake.</td>\n",
       "      <td>The man is feeding a mouse to the snake.</td>\n",
       "    </tr>\n",
       "    <tr>\n",
       "      <td>3</td>\n",
       "      <td>100003</td>\n",
       "      <td>A woman is playing the guitar.</td>\n",
       "      <td>A man is playing guitar.</td>\n",
       "    </tr>\n",
       "    <tr>\n",
       "      <td>4</td>\n",
       "      <td>100004</td>\n",
       "      <td>A woman is playing the flute.</td>\n",
       "      <td>A man is playing a flute.</td>\n",
       "    </tr>\n",
       "  </tbody>\n",
       "</table>\n",
       "</div>"
      ],
      "text/plain": [
       "       id                             sentence1  \\\n",
       "0  100000     A man with a hard hat is dancing.   \n",
       "1  100001      A young child is riding a horse.   \n",
       "2  100002  A man is feeding a mouse to a snake.   \n",
       "3  100003        A woman is playing the guitar.   \n",
       "4  100004         A woman is playing the flute.   \n",
       "\n",
       "                                  sentence2  \n",
       "0      A man wearing a hard hat is dancing.  \n",
       "1                A child is riding a horse.  \n",
       "2  The man is feeding a mouse to the snake.  \n",
       "3                  A man is playing guitar.  \n",
       "4                 A man is playing a flute.  "
      ]
     },
     "execution_count": 3,
     "metadata": {},
     "output_type": "execute_result"
    }
   ],
   "source": [
    "test_filename = \"dataset/sts-b_test.csv\"\n",
    "data_test = pd.read_csv(test_filename)\n",
    "data_test.head()"
   ]
  },
  {
   "cell_type": "markdown",
   "metadata": {},
   "source": [
    "# Preprocessing"
   ]
  },
  {
   "cell_type": "code",
   "execution_count": 4,
   "metadata": {},
   "outputs": [],
   "source": [
    "import string\n",
    "from nltk import pos_tag\n",
    "from nltk import word_tokenize\n",
    "from nltk.corpus import wordnet\n",
    "from nltk.stem import WordNetLemmatizer"
   ]
  },
  {
   "cell_type": "code",
   "execution_count": 5,
   "metadata": {},
   "outputs": [],
   "source": [
    "def get_wordnet_pos(word):\n",
    "    \"\"\"Map POS tag to first character lemmatize() accepts\"\"\"\n",
    "    tag = pos_tag([word])[0][1][0].upper()\n",
    "    tag_dict = {\"J\": wordnet.ADJ,\n",
    "                \"N\": wordnet.NOUN,\n",
    "                \"V\": wordnet.VERB,\n",
    "                \"R\": wordnet.ADV}\n",
    "\n",
    "    return tag_dict.get(tag, wordnet.NOUN)\n",
    "\n",
    "def preprocessing(sentence):\n",
    "    # Lower all words\n",
    "    pre_sentence = sentence.lower()\n",
    "    # Remove punctuations\n",
    "    table_punct = str.maketrans('', '', string.punctuation)\n",
    "    pre_sentence = pre_sentence.translate(table_punct)\n",
    "    # Tokenize\n",
    "    pre_sentence = word_tokenize(pre_sentence)\n",
    "    # Lemmatize\n",
    "    pre_sentence = [WordNetLemmatizer().lemmatize(word, get_wordnet_pos(word)) for word in pre_sentence]\n",
    "    # Join tokens\n",
    "    pre_sentence = ' '.join(pre_sentence)\n",
    "    \n",
    "    return pre_sentence"
   ]
  },
  {
   "cell_type": "code",
   "execution_count": 6,
   "metadata": {},
   "outputs": [],
   "source": [
    "data_train['pre_sentence1'] = data_train.apply(lambda row: preprocessing(row['sentence1']), axis=1)\n",
    "data_train['pre_sentence2'] = data_train.apply(lambda row: preprocessing(row['sentence2']), axis=1)"
   ]
  },
  {
   "cell_type": "code",
   "execution_count": 7,
   "metadata": {},
   "outputs": [],
   "source": [
    "data_test['pre_sentence1'] = data_test.apply(lambda row: preprocessing(row['sentence1']), axis=1)\n",
    "data_test['pre_sentence2'] = data_test.apply(lambda row: preprocessing(row['sentence2']), axis=1)"
   ]
  },
  {
   "cell_type": "code",
   "execution_count": 8,
   "metadata": {},
   "outputs": [
    {
     "data": {
      "text/html": [
       "<div>\n",
       "<style scoped>\n",
       "    .dataframe tbody tr th:only-of-type {\n",
       "        vertical-align: middle;\n",
       "    }\n",
       "\n",
       "    .dataframe tbody tr th {\n",
       "        vertical-align: top;\n",
       "    }\n",
       "\n",
       "    .dataframe thead th {\n",
       "        text-align: right;\n",
       "    }\n",
       "</style>\n",
       "<table border=\"1\" class=\"dataframe\">\n",
       "  <thead>\n",
       "    <tr style=\"text-align: right;\">\n",
       "      <th></th>\n",
       "      <th>sentence1</th>\n",
       "      <th>sentence2</th>\n",
       "      <th>score</th>\n",
       "      <th>id</th>\n",
       "      <th>pre_sentence1</th>\n",
       "      <th>pre_sentence2</th>\n",
       "    </tr>\n",
       "  </thead>\n",
       "  <tbody>\n",
       "    <tr>\n",
       "      <td>0</td>\n",
       "      <td>A plane is taking off.</td>\n",
       "      <td>An air plane is taking off.</td>\n",
       "      <td>5.00</td>\n",
       "      <td>0</td>\n",
       "      <td>a plane be take off</td>\n",
       "      <td>an air plane be take off</td>\n",
       "    </tr>\n",
       "    <tr>\n",
       "      <td>1</td>\n",
       "      <td>A man is playing a large flute.</td>\n",
       "      <td>A man is playing a flute.</td>\n",
       "      <td>3.80</td>\n",
       "      <td>1</td>\n",
       "      <td>a man be play a large flute</td>\n",
       "      <td>a man be play a flute</td>\n",
       "    </tr>\n",
       "    <tr>\n",
       "      <td>2</td>\n",
       "      <td>A man is spreading shreded cheese on a pizza.</td>\n",
       "      <td>A man is spreading shredded cheese on an uncoo...</td>\n",
       "      <td>3.80</td>\n",
       "      <td>2</td>\n",
       "      <td>a man be spread shred cheese on a pizza</td>\n",
       "      <td>a man be spread shred cheese on an uncooked pizza</td>\n",
       "    </tr>\n",
       "    <tr>\n",
       "      <td>3</td>\n",
       "      <td>Three men are playing chess.</td>\n",
       "      <td>Two men are playing chess.</td>\n",
       "      <td>2.60</td>\n",
       "      <td>3</td>\n",
       "      <td>three men be play chess</td>\n",
       "      <td>two men be play chess</td>\n",
       "    </tr>\n",
       "    <tr>\n",
       "      <td>4</td>\n",
       "      <td>A man is playing the cello.</td>\n",
       "      <td>A man seated is playing the cello.</td>\n",
       "      <td>4.25</td>\n",
       "      <td>4</td>\n",
       "      <td>a man be play the cello</td>\n",
       "      <td>a man seat be play the cello</td>\n",
       "    </tr>\n",
       "  </tbody>\n",
       "</table>\n",
       "</div>"
      ],
      "text/plain": [
       "                                       sentence1  \\\n",
       "0                         A plane is taking off.   \n",
       "1                A man is playing a large flute.   \n",
       "2  A man is spreading shreded cheese on a pizza.   \n",
       "3                   Three men are playing chess.   \n",
       "4                    A man is playing the cello.   \n",
       "\n",
       "                                           sentence2  score  id  \\\n",
       "0                        An air plane is taking off.   5.00   0   \n",
       "1                          A man is playing a flute.   3.80   1   \n",
       "2  A man is spreading shredded cheese on an uncoo...   3.80   2   \n",
       "3                         Two men are playing chess.   2.60   3   \n",
       "4                 A man seated is playing the cello.   4.25   4   \n",
       "\n",
       "                             pre_sentence1  \\\n",
       "0                      a plane be take off   \n",
       "1              a man be play a large flute   \n",
       "2  a man be spread shred cheese on a pizza   \n",
       "3                  three men be play chess   \n",
       "4                  a man be play the cello   \n",
       "\n",
       "                                       pre_sentence2  \n",
       "0                           an air plane be take off  \n",
       "1                              a man be play a flute  \n",
       "2  a man be spread shred cheese on an uncooked pizza  \n",
       "3                              two men be play chess  \n",
       "4                       a man seat be play the cello  "
      ]
     },
     "execution_count": 8,
     "metadata": {},
     "output_type": "execute_result"
    }
   ],
   "source": [
    "data_train.head()"
   ]
  },
  {
   "cell_type": "markdown",
   "metadata": {},
   "source": [
    "# Split train data to train and validation"
   ]
  },
  {
   "cell_type": "code",
   "execution_count": 9,
   "metadata": {},
   "outputs": [],
   "source": [
    "from sklearn.model_selection import train_test_split"
   ]
  },
  {
   "cell_type": "code",
   "execution_count": 10,
   "metadata": {},
   "outputs": [],
   "source": [
    "data_train, data_validation = train_test_split(data_train, test_size=0.15, random_state=42)"
   ]
  },
  {
   "cell_type": "markdown",
   "metadata": {},
   "source": [
    "# Building dictionary"
   ]
  },
  {
   "cell_type": "code",
   "execution_count": 11,
   "metadata": {},
   "outputs": [
    {
     "name": "stderr",
     "output_type": "stream",
     "text": [
      "Using TensorFlow backend.\n"
     ]
    }
   ],
   "source": [
    "from keras.preprocessing.text import Tokenizer"
   ]
  },
  {
   "cell_type": "code",
   "execution_count": 12,
   "metadata": {},
   "outputs": [],
   "source": [
    "train_text = data_train['pre_sentence1'].tolist() + data_train['pre_sentence2'].tolist()\n",
    "validation_text = data_validation['pre_sentence1'].tolist() + data_validation['pre_sentence2'].tolist()\n",
    "test_text = data_test['pre_sentence1'].tolist() + data_test['pre_sentence2'].tolist()\n",
    "\n",
    "texts = train_text + validation_text + test_text"
   ]
  },
  {
   "cell_type": "code",
   "execution_count": 13,
   "metadata": {},
   "outputs": [],
   "source": [
    "tokenizer = Tokenizer()\n",
    "tokenizer.fit_on_texts(texts)\n",
    "word_index = tokenizer.word_index"
   ]
  },
  {
   "cell_type": "markdown",
   "metadata": {},
   "source": [
    "# Padding and indexing sentences"
   ]
  },
  {
   "cell_type": "markdown",
   "metadata": {},
   "source": [
    "### Indexing"
   ]
  },
  {
   "cell_type": "code",
   "execution_count": 14,
   "metadata": {},
   "outputs": [],
   "source": [
    "data_train['seq1'] = data_train.apply(lambda row: tokenizer.texts_to_sequences([row['pre_sentence1']])[0], axis=1)\n",
    "data_train['seq2'] = data_train.apply(lambda row: tokenizer.texts_to_sequences([row['pre_sentence2']])[0], axis=1)"
   ]
  },
  {
   "cell_type": "code",
   "execution_count": 15,
   "metadata": {},
   "outputs": [],
   "source": [
    "data_validation['seq1'] = data_validation.apply(lambda row: tokenizer.texts_to_sequences([row['pre_sentence1']])[0], axis=1)\n",
    "data_validation['seq2'] = data_validation.apply(lambda row: tokenizer.texts_to_sequences([row['pre_sentence2']])[0], axis=1)"
   ]
  },
  {
   "cell_type": "code",
   "execution_count": 16,
   "metadata": {},
   "outputs": [],
   "source": [
    "data_test['seq1'] = data_test.apply(lambda row: tokenizer.texts_to_sequences([row['pre_sentence1']])[0], axis=1)\n",
    "data_test['seq2'] = data_test.apply(lambda row: tokenizer.texts_to_sequences([row['pre_sentence2']])[0], axis=1)"
   ]
  },
  {
   "cell_type": "code",
   "execution_count": 17,
   "metadata": {},
   "outputs": [
    {
     "data": {
      "text/html": [
       "<div>\n",
       "<style scoped>\n",
       "    .dataframe tbody tr th:only-of-type {\n",
       "        vertical-align: middle;\n",
       "    }\n",
       "\n",
       "    .dataframe tbody tr th {\n",
       "        vertical-align: top;\n",
       "    }\n",
       "\n",
       "    .dataframe thead th {\n",
       "        text-align: right;\n",
       "    }\n",
       "</style>\n",
       "<table border=\"1\" class=\"dataframe\">\n",
       "  <thead>\n",
       "    <tr style=\"text-align: right;\">\n",
       "      <th></th>\n",
       "      <th>sentence1</th>\n",
       "      <th>sentence2</th>\n",
       "      <th>score</th>\n",
       "      <th>id</th>\n",
       "      <th>pre_sentence1</th>\n",
       "      <th>pre_sentence2</th>\n",
       "      <th>seq1</th>\n",
       "      <th>seq2</th>\n",
       "    </tr>\n",
       "  </thead>\n",
       "  <tbody>\n",
       "    <tr>\n",
       "      <td>1176</td>\n",
       "      <td>A sheep stands on a hillside.</td>\n",
       "      <td>A large sheep standing on a hill.</td>\n",
       "      <td>4.00</td>\n",
       "      <td>1176</td>\n",
       "      <td>a sheep stand on a hillside</td>\n",
       "      <td>a large sheep stand on a hill</td>\n",
       "      <td>[1, 318, 37, 8, 1, 3918]</td>\n",
       "      <td>[1, 112, 318, 37, 8, 1, 722]</td>\n",
       "    </tr>\n",
       "    <tr>\n",
       "      <td>4786</td>\n",
       "      <td>Tornadoes rip through Midwest, killing 6 and d...</td>\n",
       "      <td>Tornadoes, damaging storms hit U.S. Midwest, k...</td>\n",
       "      <td>3.20</td>\n",
       "      <td>4789</td>\n",
       "      <td>tornado rip through midwest kill 6 and devasta...</td>\n",
       "      <td>tornado damage storm hit u midwest kill 5</td>\n",
       "      <td>[1897, 3919, 69, 3239, 21, 402, 7, 7464, 3240]</td>\n",
       "      <td>[1897, 777, 607, 137, 24, 3239, 21, 373]</td>\n",
       "    </tr>\n",
       "    <tr>\n",
       "      <td>3091</td>\n",
       "      <td>The Standard &amp; Poor's 500 index advanced 6.48,...</td>\n",
       "      <td>The broader Standard &amp; Poor's 500 Index .SPX r...</td>\n",
       "      <td>4.75</td>\n",
       "      <td>3094</td>\n",
       "      <td>the standard poor 500 index advanced 648 or 07...</td>\n",
       "      <td>the broader standard poor 500 index spx rise 6...</td>\n",
       "      <td>[2, 374, 525, 517, 178, 1221, 4840, 38, 2525, ...</td>\n",
       "      <td>[2, 1022, 374, 525, 517, 178, 866, 131, 4840, ...</td>\n",
       "    </tr>\n",
       "    <tr>\n",
       "      <td>4472</td>\n",
       "      <td>North Korea's third test brings it closer to n...</td>\n",
       "      <td>NATO says North Korea nuclear test is grave th...</td>\n",
       "      <td>2.20</td>\n",
       "      <td>4475</td>\n",
       "      <td>north korea third test brings it closer to nuc...</td>\n",
       "      <td>nato say north korea nuclear test be grave thr...</td>\n",
       "      <td>[135, 165, 568, 439, 2258, 15, 2051, 5, 85, 48...</td>\n",
       "      <td>[233, 16, 135, 165, 85, 439, 3, 6548, 710, 5, ...</td>\n",
       "    </tr>\n",
       "    <tr>\n",
       "      <td>807</td>\n",
       "      <td>A baby monkey scratches itself.</td>\n",
       "      <td>The monkey scratched his tummy.</td>\n",
       "      <td>3.25</td>\n",
       "      <td>807</td>\n",
       "      <td>a baby monkey scratch itself</td>\n",
       "      <td>the monkey scratch his tummy</td>\n",
       "      <td>[1, 179, 627, 3920, 1425]</td>\n",
       "      <td>[2, 627, 3920, 41, 8766]</td>\n",
       "    </tr>\n",
       "  </tbody>\n",
       "</table>\n",
       "</div>"
      ],
      "text/plain": [
       "                                              sentence1  \\\n",
       "1176                      A sheep stands on a hillside.   \n",
       "4786  Tornadoes rip through Midwest, killing 6 and d...   \n",
       "3091  The Standard & Poor's 500 index advanced 6.48,...   \n",
       "4472  North Korea's third test brings it closer to n...   \n",
       "807                     A baby monkey scratches itself.   \n",
       "\n",
       "                                              sentence2  score    id  \\\n",
       "1176                  A large sheep standing on a hill.   4.00  1176   \n",
       "4786  Tornadoes, damaging storms hit U.S. Midwest, k...   3.20  4789   \n",
       "3091  The broader Standard & Poor's 500 Index .SPX r...   4.75  3094   \n",
       "4472  NATO says North Korea nuclear test is grave th...   2.20  4475   \n",
       "807                     The monkey scratched his tummy.   3.25   807   \n",
       "\n",
       "                                          pre_sentence1  \\\n",
       "1176                        a sheep stand on a hillside   \n",
       "4786  tornado rip through midwest kill 6 and devasta...   \n",
       "3091  the standard poor 500 index advanced 648 or 07...   \n",
       "4472  north korea third test brings it closer to nuc...   \n",
       "807                        a baby monkey scratch itself   \n",
       "\n",
       "                                          pre_sentence2  \\\n",
       "1176                      a large sheep stand on a hill   \n",
       "4786          tornado damage storm hit u midwest kill 5   \n",
       "3091  the broader standard poor 500 index spx rise 6...   \n",
       "4472  nato say north korea nuclear test be grave thr...   \n",
       "807                        the monkey scratch his tummy   \n",
       "\n",
       "                                                   seq1  \\\n",
       "1176                           [1, 318, 37, 8, 1, 3918]   \n",
       "4786     [1897, 3919, 69, 3239, 21, 402, 7, 7464, 3240]   \n",
       "3091  [2, 374, 525, 517, 178, 1221, 4840, 38, 2525, ...   \n",
       "4472  [135, 165, 568, 439, 2258, 15, 2051, 5, 85, 48...   \n",
       "807                           [1, 179, 627, 3920, 1425]   \n",
       "\n",
       "                                                   seq2  \n",
       "1176                       [1, 112, 318, 37, 8, 1, 722]  \n",
       "4786           [1897, 777, 607, 137, 24, 3239, 21, 373]  \n",
       "3091  [2, 1022, 374, 525, 517, 178, 866, 131, 4840, ...  \n",
       "4472  [233, 16, 135, 165, 85, 439, 3, 6548, 710, 5, ...  \n",
       "807                            [2, 627, 3920, 41, 8766]  "
      ]
     },
     "execution_count": 17,
     "metadata": {},
     "output_type": "execute_result"
    }
   ],
   "source": [
    "data_train.head()"
   ]
  },
  {
   "cell_type": "markdown",
   "metadata": {},
   "source": [
    "### Padding"
   ]
  },
  {
   "cell_type": "code",
   "execution_count": 18,
   "metadata": {},
   "outputs": [],
   "source": [
    "from keras.preprocessing.sequence import pad_sequences"
   ]
  },
  {
   "cell_type": "code",
   "execution_count": 19,
   "metadata": {},
   "outputs": [],
   "source": [
    "train_max_1_length = len(max(data_train['seq1'].tolist(), key=len))\n",
    "train_max_2_length = len(max(data_train['seq2'].tolist(), key=len))\n",
    "\n",
    "validation_max_1_length = len(max(data_validation['seq1'].tolist(), key=len))\n",
    "validation_max_2_length = len(max(data_validation['seq2'].tolist(), key=len))\n",
    "\n",
    "test_max_1_length = len(max(data_test['seq1'].tolist(), key=len))\n",
    "test_max_2_length = len(max(data_test['seq2'].tolist(), key=len))\n",
    "\n",
    "max_len = max([train_max_1_length, train_max_2_length, validation_max_1_length, validation_max_2_length, test_max_1_length, test_max_2_length])"
   ]
  },
  {
   "cell_type": "code",
   "execution_count": 20,
   "metadata": {},
   "outputs": [],
   "source": [
    "X_train_1 = pad_sequences(data_train['seq1'].tolist(), padding='post', dtype='int32', maxlen=max_len)\n",
    "X_train_2 = pad_sequences(data_train['seq2'].tolist(), padding='post', dtype='int32', maxlen=max_len)"
   ]
  },
  {
   "cell_type": "code",
   "execution_count": 21,
   "metadata": {},
   "outputs": [],
   "source": [
    "X_validation_1 = pad_sequences(data_validation['seq1'].tolist(), padding='post', dtype='int32', maxlen=max_len)\n",
    "X_validation_2 = pad_sequences(data_validation['seq2'].tolist(), padding='post', dtype='int32', maxlen=max_len)"
   ]
  },
  {
   "cell_type": "code",
   "execution_count": 22,
   "metadata": {},
   "outputs": [],
   "source": [
    "X_test_1 = pad_sequences(data_test['seq1'].tolist(), padding='post', dtype='int32', maxlen=max_len)\n",
    "X_test_2 = pad_sequences(data_test['seq2'].tolist(), padding='post', dtype='int32', maxlen=max_len)"
   ]
  },
  {
   "cell_type": "markdown",
   "metadata": {},
   "source": [
    "# Embedding matrix"
   ]
  },
  {
   "cell_type": "code",
   "execution_count": 23,
   "metadata": {},
   "outputs": [],
   "source": [
    "import numpy as np"
   ]
  },
  {
   "cell_type": "code",
   "execution_count": 24,
   "metadata": {},
   "outputs": [],
   "source": [
    "vocab_size = len(word_index) + 1\n",
    "\n",
    "def build_emb_matrix(vocab_size, word_index):\n",
    "    embedding_matrix = np.zeros((vocab_size, 100), dtype='float32')\n",
    "    with open('./glove/glove.6B.100d.txt', 'r', encoding='utf8') as f:\n",
    "        for i, line in enumerate(f):\n",
    "            s = line.split(' ')\n",
    "            if (s[0] in word_index) and (word_index[s[0]] < vocab_size):\n",
    "                embedding_matrix[word_index[s[0]], :] = np.asarray(s[1:])\n",
    "\n",
    "    return embedding_matrix"
   ]
  },
  {
   "cell_type": "code",
   "execution_count": 25,
   "metadata": {},
   "outputs": [],
   "source": [
    "embedding_matrix = build_emb_matrix(vocab_size, word_index)"
   ]
  },
  {
   "cell_type": "markdown",
   "metadata": {},
   "source": [
    "# Embedding layer"
   ]
  },
  {
   "cell_type": "code",
   "execution_count": 41,
   "metadata": {},
   "outputs": [],
   "source": [
    "from keras import backend as K\n",
    "from keras.callbacks import EarlyStopping\n",
    "from keras.initializers import RandomNormal\n",
    "from keras.layers import concatenate, Dense, Dropout, Embedding, Lambda, Multiply, Subtract\n",
    "from keras import Input, Model, optimizers, regularizers"
   ]
  },
  {
   "cell_type": "code",
   "execution_count": 42,
   "metadata": {},
   "outputs": [],
   "source": [
    "embedding_layer = Embedding(\n",
    "    vocab_size,\n",
    "    100,\n",
    "    weights=[embedding_matrix],\n",
    "    input_length=max_len,\n",
    "    trainable=True,\n",
    "    name='VectorLookup'\n",
    ")"
   ]
  },
  {
   "cell_type": "code",
   "execution_count": 43,
   "metadata": {},
   "outputs": [],
   "source": [
    "sent1_seq_in = Input(shape=(max_len,), dtype='int32', name='sent1_seq_in')\n",
    "embedded_sent1 = embedding_layer(sent1_seq_in)\n",
    "embedded_sent1_drop = Dropout(0.1)(embedded_sent1)\n",
    "encoded_sent1 = Lambda(lambda x: K.sum(x, axis=1))(embedded_sent1_drop)"
   ]
  },
  {
   "cell_type": "code",
   "execution_count": 44,
   "metadata": {},
   "outputs": [],
   "source": [
    "sent2_seq_in = Input(shape=(max_len,), dtype='int32', name='sent2_seq_in')\n",
    "embedded_sent2 = embedding_layer(sent2_seq_in)\n",
    "embedded_sent2_drop = Dropout(0.1)(embedded_sent2)\n",
    "encoded_sent2 = Lambda(lambda x: K.sum(x, axis=1))(embedded_sent2_drop)"
   ]
  },
  {
   "cell_type": "code",
   "execution_count": 45,
   "metadata": {},
   "outputs": [],
   "source": [
    "mul = Multiply()([encoded_sent1, encoded_sent2])\n",
    "sub = Subtract()([encoded_sent1, encoded_sent2])\n",
    "dif = Lambda(lambda x: K.abs(x))(sub)"
   ]
  },
  {
   "cell_type": "code",
   "execution_count": 46,
   "metadata": {},
   "outputs": [],
   "source": [
    "concatenated = concatenate([mul, dif], axis=-1)"
   ]
  },
  {
   "cell_type": "code",
   "execution_count": 47,
   "metadata": {},
   "outputs": [],
   "source": [
    "x = Dense(50, activation='sigmoid', kernel_initializer=RandomNormal(stddev=0.1),\n",
    "                bias_initializer=RandomNormal(stddev=0.1))(concatenated)\n",
    "x = Dropout(0.1)(x)\n",
    "x = Dense(6, activation='softmax', kernel_initializer=RandomNormal(stddev=0.1),\n",
    "        bias_initializer=RandomNormal(stddev=0.1))(x)"
   ]
  },
  {
   "cell_type": "code",
   "execution_count": 48,
   "metadata": {},
   "outputs": [],
   "source": [
    "gate_mapping = K.variable(value=np.array([[0.], [1.], [2.], [3.], [4.], [5.]]))\n",
    "preds = Lambda(lambda a: K.dot(a, gate_mapping), name='Prediction')(x)"
   ]
  },
  {
   "cell_type": "code",
   "execution_count": 49,
   "metadata": {},
   "outputs": [
    {
     "name": "stdout",
     "output_type": "stream",
     "text": [
      "Model: \"model_2\"\n",
      "__________________________________________________________________________________________________\n",
      "Layer (type)                    Output Shape         Param #     Connected to                     \n",
      "==================================================================================================\n",
      "sent1_seq_in (InputLayer)       (None, 272)          0                                            \n",
      "__________________________________________________________________________________________________\n",
      "sent2_seq_in (InputLayer)       (None, 272)          0                                            \n",
      "__________________________________________________________________________________________________\n",
      "VectorLookup (Embedding)        (None, 272, 100)     1178100     sent1_seq_in[0][0]               \n",
      "                                                                 sent2_seq_in[0][0]               \n",
      "__________________________________________________________________________________________________\n",
      "dropout_4 (Dropout)             (None, 272, 100)     0           VectorLookup[0][0]               \n",
      "__________________________________________________________________________________________________\n",
      "dropout_5 (Dropout)             (None, 272, 100)     0           VectorLookup[1][0]               \n",
      "__________________________________________________________________________________________________\n",
      "lambda_4 (Lambda)               (None, 100)          0           dropout_4[0][0]                  \n",
      "__________________________________________________________________________________________________\n",
      "lambda_5 (Lambda)               (None, 100)          0           dropout_5[0][0]                  \n",
      "__________________________________________________________________________________________________\n",
      "subtract_2 (Subtract)           (None, 100)          0           lambda_4[0][0]                   \n",
      "                                                                 lambda_5[0][0]                   \n",
      "__________________________________________________________________________________________________\n",
      "multiply_2 (Multiply)           (None, 100)          0           lambda_4[0][0]                   \n",
      "                                                                 lambda_5[0][0]                   \n",
      "__________________________________________________________________________________________________\n",
      "lambda_6 (Lambda)               (None, 100)          0           subtract_2[0][0]                 \n",
      "__________________________________________________________________________________________________\n",
      "concatenate_2 (Concatenate)     (None, 200)          0           multiply_2[0][0]                 \n",
      "                                                                 lambda_6[0][0]                   \n",
      "__________________________________________________________________________________________________\n",
      "dense_3 (Dense)                 (None, 50)           10050       concatenate_2[0][0]              \n",
      "__________________________________________________________________________________________________\n",
      "dropout_6 (Dropout)             (None, 50)           0           dense_3[0][0]                    \n",
      "__________________________________________________________________________________________________\n",
      "dense_4 (Dense)                 (None, 6)            306         dropout_6[0][0]                  \n",
      "__________________________________________________________________________________________________\n",
      "Prediction (Lambda)             (None, 1)            0           dense_4[0][0]                    \n",
      "==================================================================================================\n",
      "Total params: 1,188,456\n",
      "Trainable params: 1,188,456\n",
      "Non-trainable params: 0\n",
      "__________________________________________________________________________________________________\n"
     ]
    }
   ],
   "source": [
    "model = Model([sent1_seq_in, sent2_seq_in], preds)\n",
    "model.summary()"
   ]
  },
  {
   "cell_type": "markdown",
   "metadata": {},
   "source": [
    "Afin de trouver une meilleure fonction pour monitor, nous avons utilisé la fonction pearson https://stackoverflow.com/questions/48171188/pearsons-linear-coefficient-keras. Il aurait été plus bénéfique de trouver une implémentation de spearman, mais après plusieurs recherches, nous n'avons rien trouvé."
   ]
  },
  {
   "cell_type": "code",
   "execution_count": 50,
   "metadata": {},
   "outputs": [],
   "source": [
    "def pearsonr(x, y):\n",
    "    xm = x - K.mean(x)\n",
    "    ym = y - K.mean(y)\n",
    "    r_num = K.sum(xm * ym)\n",
    "    xs = K.sum(K.pow(xm, 2))\n",
    "    ys = K.sum(K.pow(ym, 2))\n",
    "    r_den = K.sqrt(xs) * K.sqrt(ys)\n",
    "    r = r_num / r_den\n",
    "\n",
    "    return r\n",
    "\n",
    "def pearson(y_true, y_pred):\n",
    "    return pearsonr(y_true, y_pred)"
   ]
  },
  {
   "cell_type": "code",
   "execution_count": 51,
   "metadata": {},
   "outputs": [],
   "source": [
    "early_stopping = EarlyStopping(monitor='pearson', patience=3, mode='max')"
   ]
  },
  {
   "cell_type": "code",
   "execution_count": 52,
   "metadata": {},
   "outputs": [],
   "source": [
    "Adam = optimizers.Adam(lr=0.0005, beta_1=0.9, beta_2=0.999)\n",
    "\n",
    "model.compile(\n",
    "    optimizer=Adam,\n",
    "    loss='mse',\n",
    "    metrics=[pearson]\n",
    ")"
   ]
  },
  {
   "cell_type": "code",
   "execution_count": 53,
   "metadata": {},
   "outputs": [],
   "source": [
    "Y_train = data_train['score'].tolist()\n",
    "Y_valid = data_validation['score'].tolist()"
   ]
  },
  {
   "cell_type": "code",
   "execution_count": 54,
   "metadata": {},
   "outputs": [
    {
     "name": "stdout",
     "output_type": "stream",
     "text": [
      "Train on 4847 samples, validate on 856 samples\n",
      "Epoch 1/250\n",
      "4847/4847 [==============================] - 3s 570us/step - loss: 2.1237 - pearson: 0.1017 - val_loss: 2.1588 - val_pearson: 0.3140\n",
      "Epoch 2/250\n",
      "4847/4847 [==============================] - 2s 481us/step - loss: 2.0009 - pearson: 0.2647 - val_loss: 2.0171 - val_pearson: 0.4215\n",
      "Epoch 3/250\n",
      "4847/4847 [==============================] - 2s 489us/step - loss: 1.8669 - pearson: 0.3896 - val_loss: 1.9438 - val_pearson: 0.4917\n",
      "Epoch 4/250\n",
      "4847/4847 [==============================] - 2s 503us/step - loss: 1.6796 - pearson: 0.4903 - val_loss: 1.6351 - val_pearson: 0.5580\n",
      "Epoch 5/250\n",
      "4847/4847 [==============================] - 2s 509us/step - loss: 1.4035 - pearson: 0.5994 - val_loss: 1.4060 - val_pearson: 0.6082\n",
      "Epoch 6/250\n",
      "4847/4847 [==============================] - 2s 480us/step - loss: 1.2857 - pearson: 0.6333 - val_loss: 1.4423 - val_pearson: 0.6178\n",
      "Epoch 7/250\n",
      "4847/4847 [==============================] - 2s 478us/step - loss: 1.1293 - pearson: 0.6870 - val_loss: 1.3174 - val_pearson: 0.6325\n",
      "Epoch 8/250\n",
      "4847/4847 [==============================] - 2s 489us/step - loss: 1.0117 - pearson: 0.7268 - val_loss: 1.2277 - val_pearson: 0.6599\n",
      "Epoch 9/250\n",
      "4847/4847 [==============================] - 2s 477us/step - loss: 0.9440 - pearson: 0.7486 - val_loss: 1.2114 - val_pearson: 0.6772\n",
      "Epoch 10/250\n",
      "4847/4847 [==============================] - 2s 489us/step - loss: 0.8796 - pearson: 0.7667 - val_loss: 1.1783 - val_pearson: 0.6885\n",
      "Epoch 11/250\n",
      "4847/4847 [==============================] - 3s 520us/step - loss: 0.8219 - pearson: 0.7842 - val_loss: 1.2114 - val_pearson: 0.6893\n",
      "Epoch 12/250\n",
      "4847/4847 [==============================] - 3s 540us/step - loss: 0.7840 - pearson: 0.7950 - val_loss: 1.2143 - val_pearson: 0.6949\n",
      "Epoch 13/250\n",
      "4847/4847 [==============================] - 2s 489us/step - loss: 0.7038 - pearson: 0.8172 - val_loss: 1.1629 - val_pearson: 0.7090\n",
      "Epoch 14/250\n",
      "4847/4847 [==============================] - 3s 618us/step - loss: 0.6895 - pearson: 0.8193 - val_loss: 1.0893 - val_pearson: 0.7162\n",
      "Epoch 15/250\n",
      "4847/4847 [==============================] - 3s 706us/step - loss: 0.6697 - pearson: 0.8295 - val_loss: 1.1725 - val_pearson: 0.6991\n",
      "Epoch 16/250\n",
      "4847/4847 [==============================] - 2s 499us/step - loss: 0.6166 - pearson: 0.8452 - val_loss: 1.1443 - val_pearson: 0.7150\n",
      "Epoch 17/250\n",
      "4847/4847 [==============================] - 2s 476us/step - loss: 0.5767 - pearson: 0.8543 - val_loss: 1.1048 - val_pearson: 0.7269\n",
      "Epoch 18/250\n",
      "4847/4847 [==============================] - 2s 480us/step - loss: 0.5421 - pearson: 0.8632 - val_loss: 1.0782 - val_pearson: 0.7264\n",
      "Epoch 19/250\n",
      "4847/4847 [==============================] - 2s 476us/step - loss: 0.5309 - pearson: 0.8694 - val_loss: 1.1573 - val_pearson: 0.7153\n",
      "Epoch 20/250\n",
      "4847/4847 [==============================] - 2s 480us/step - loss: 0.4946 - pearson: 0.8777 - val_loss: 1.2969 - val_pearson: 0.7081\n",
      "Epoch 21/250\n",
      "4847/4847 [==============================] - 2s 484us/step - loss: 0.4873 - pearson: 0.8804 - val_loss: 1.1087 - val_pearson: 0.7211\n",
      "Epoch 22/250\n",
      "4847/4847 [==============================] - 2s 482us/step - loss: 0.4502 - pearson: 0.8888 - val_loss: 1.0930 - val_pearson: 0.7337\n",
      "Epoch 23/250\n",
      "4847/4847 [==============================] - 2s 483us/step - loss: 0.4492 - pearson: 0.8893 - val_loss: 1.2071 - val_pearson: 0.7248\n",
      "Epoch 24/250\n",
      "4847/4847 [==============================] - 2s 481us/step - loss: 0.4054 - pearson: 0.9010 - val_loss: 1.1085 - val_pearson: 0.7322\n",
      "Epoch 25/250\n",
      "4847/4847 [==============================] - 2s 483us/step - loss: 0.4032 - pearson: 0.9011 - val_loss: 1.1169 - val_pearson: 0.7302\n",
      "Epoch 26/250\n",
      "4847/4847 [==============================] - 2s 482us/step - loss: 0.3943 - pearson: 0.9029 - val_loss: 1.1458 - val_pearson: 0.7332\n",
      "Epoch 27/250\n",
      "4847/4847 [==============================] - 2s 487us/step - loss: 0.3781 - pearson: 0.9085 - val_loss: 1.1402 - val_pearson: 0.7252\n",
      "Epoch 28/250\n",
      "4847/4847 [==============================] - 2s 493us/step - loss: 0.3599 - pearson: 0.9135 - val_loss: 1.1356 - val_pearson: 0.7309\n",
      "Epoch 29/250\n",
      "4847/4847 [==============================] - 2s 486us/step - loss: 0.3448 - pearson: 0.9161 - val_loss: 1.1946 - val_pearson: 0.7298\n",
      "Epoch 30/250\n",
      "4847/4847 [==============================] - 2s 482us/step - loss: 0.3239 - pearson: 0.9216 - val_loss: 1.2758 - val_pearson: 0.7234\n",
      "Epoch 31/250\n",
      "4847/4847 [==============================] - 2s 484us/step - loss: 0.3335 - pearson: 0.9190 - val_loss: 1.1091 - val_pearson: 0.7330\n",
      "Epoch 32/250\n",
      "4847/4847 [==============================] - 2s 480us/step - loss: 0.3124 - pearson: 0.9244 - val_loss: 1.1038 - val_pearson: 0.7401\n",
      "Epoch 33/250\n",
      "4847/4847 [==============================] - 2s 486us/step - loss: 0.3049 - pearson: 0.9274 - val_loss: 1.1410 - val_pearson: 0.7327\n",
      "Epoch 34/250\n",
      "4847/4847 [==============================] - 2s 482us/step - loss: 0.3024 - pearson: 0.9269 - val_loss: 1.0550 - val_pearson: 0.7446\n",
      "Epoch 35/250\n",
      "4847/4847 [==============================] - 2s 488us/step - loss: 0.2807 - pearson: 0.9323 - val_loss: 1.1575 - val_pearson: 0.7330\n",
      "Epoch 36/250\n",
      "4847/4847 [==============================] - 2s 480us/step - loss: 0.2747 - pearson: 0.9338 - val_loss: 1.0829 - val_pearson: 0.7441\n",
      "Epoch 37/250\n",
      "4847/4847 [==============================] - 2s 488us/step - loss: 0.2693 - pearson: 0.9346 - val_loss: 1.0572 - val_pearson: 0.7475\n",
      "Epoch 38/250\n",
      "4847/4847 [==============================] - 2s 487us/step - loss: 0.2604 - pearson: 0.9364 - val_loss: 1.0715 - val_pearson: 0.7446\n",
      "Epoch 39/250\n",
      "4847/4847 [==============================] - 2s 483us/step - loss: 0.2580 - pearson: 0.9385 - val_loss: 1.1123 - val_pearson: 0.7385\n",
      "Epoch 40/250\n",
      "4847/4847 [==============================] - 2s 498us/step - loss: 0.2447 - pearson: 0.9410 - val_loss: 1.0763 - val_pearson: 0.7411\n",
      "Epoch 41/250\n",
      "4847/4847 [==============================] - 2s 486us/step - loss: 0.2561 - pearson: 0.9387 - val_loss: 1.0815 - val_pearson: 0.7441\n",
      "Epoch 42/250\n",
      "4847/4847 [==============================] - 2s 483us/step - loss: 0.2311 - pearson: 0.9448 - val_loss: 1.1581 - val_pearson: 0.7446\n",
      "Epoch 43/250\n",
      "4847/4847 [==============================] - 2s 487us/step - loss: 0.2327 - pearson: 0.9445 - val_loss: 1.2480 - val_pearson: 0.7381\n",
      "Epoch 44/250\n",
      "4847/4847 [==============================] - 2s 483us/step - loss: 0.2168 - pearson: 0.9479 - val_loss: 1.1803 - val_pearson: 0.7421\n",
      "Epoch 45/250\n",
      "4847/4847 [==============================] - 2s 492us/step - loss: 0.2216 - pearson: 0.9475 - val_loss: 1.1654 - val_pearson: 0.7442\n",
      "Epoch 46/250\n",
      "4847/4847 [==============================] - 2s 484us/step - loss: 0.2140 - pearson: 0.9487 - val_loss: 1.0897 - val_pearson: 0.7424\n",
      "Epoch 47/250\n",
      "4847/4847 [==============================] - 2s 500us/step - loss: 0.2132 - pearson: 0.9491 - val_loss: 1.1377 - val_pearson: 0.7430\n",
      "Epoch 48/250\n",
      "4847/4847 [==============================] - 2s 478us/step - loss: 0.2107 - pearson: 0.9504 - val_loss: 1.0912 - val_pearson: 0.7458\n",
      "Epoch 49/250\n",
      "4847/4847 [==============================] - 2s 488us/step - loss: 0.2018 - pearson: 0.9524 - val_loss: 1.0883 - val_pearson: 0.7456\n",
      "Epoch 50/250\n",
      "4847/4847 [==============================] - 2s 483us/step - loss: 0.2003 - pearson: 0.9520 - val_loss: 1.1425 - val_pearson: 0.7426\n",
      "Epoch 51/250\n",
      "4847/4847 [==============================] - 2s 496us/step - loss: 0.2013 - pearson: 0.9518 - val_loss: 1.1056 - val_pearson: 0.7493\n",
      "Epoch 52/250\n",
      "4847/4847 [==============================] - 3s 547us/step - loss: 0.1912 - pearson: 0.9542 - val_loss: 1.0607 - val_pearson: 0.7494\n",
      "Epoch 53/250\n",
      "4847/4847 [==============================] - 3s 529us/step - loss: 0.1911 - pearson: 0.9552 - val_loss: 1.1181 - val_pearson: 0.7462\n",
      "Epoch 54/250\n",
      "4847/4847 [==============================] - 2s 506us/step - loss: 0.1887 - pearson: 0.9556 - val_loss: 1.0637 - val_pearson: 0.7526\n",
      "Epoch 55/250\n",
      "4847/4847 [==============================] - 2s 485us/step - loss: 0.1847 - pearson: 0.9562 - val_loss: 1.0939 - val_pearson: 0.7504\n",
      "Epoch 56/250\n",
      "4847/4847 [==============================] - 2s 486us/step - loss: 0.1707 - pearson: 0.9594 - val_loss: 1.1632 - val_pearson: 0.7471\n",
      "Epoch 57/250\n",
      "4847/4847 [==============================] - 2s 485us/step - loss: 0.1749 - pearson: 0.9593 - val_loss: 1.1514 - val_pearson: 0.7443\n",
      "Epoch 58/250\n",
      "4847/4847 [==============================] - 2s 507us/step - loss: 0.1759 - pearson: 0.9585 - val_loss: 1.0862 - val_pearson: 0.7556\n",
      "Epoch 59/250\n",
      "4847/4847 [==============================] - 2s 499us/step - loss: 0.1713 - pearson: 0.9588 - val_loss: 1.0738 - val_pearson: 0.7503\n"
     ]
    }
   ],
   "source": [
    "history = model.fit([X_train_1.tolist(), X_train_2.tolist()], Y_train,\n",
    "                    verbose=1,\n",
    "                    epochs=250,\n",
    "                    batch_size=64,\n",
    "                    callbacks=[early_stopping],\n",
    "                    validation_data=([X_validation_1.tolist(), X_validation_2.tolist()], Y_valid))"
   ]
  },
  {
   "cell_type": "code",
   "execution_count": 55,
   "metadata": {},
   "outputs": [],
   "source": [
    "from keras.utils import plot_model"
   ]
  },
  {
   "cell_type": "code",
   "execution_count": 56,
   "metadata": {},
   "outputs": [
    {
     "data": {
      "image/png": "[encoded data removed]",
      "text/plain": [
       "<IPython.core.display.Image object>"
      ]
     },
     "execution_count": 56,
     "metadata": {},
     "output_type": "execute_result"
    }
   ],
   "source": [
    "plot_model(model, to_file='model.png')"
   ]
  },
  {
   "cell_type": "markdown",
   "metadata": {},
   "source": [
    "# Generate test value"
   ]
  },
  {
   "cell_type": "code",
   "execution_count": 57,
   "metadata": {},
   "outputs": [
    {
     "name": "stdout",
     "output_type": "stream",
     "text": [
      "1463/1463 [==============================] - 0s 73us/step\n"
     ]
    }
   ],
   "source": [
    "Y_pred_test = model.predict(\n",
    "    [X_test_1, X_test_2],\n",
    "    use_multiprocessing=True,\n",
    "    verbose=1,\n",
    "    batch_size=32\n",
    ")"
   ]
  },
  {
   "cell_type": "code",
   "execution_count": 58,
   "metadata": {},
   "outputs": [
    {
     "data": {
      "text/plain": [
       "array([[4.2212   ],\n",
       "       [4.3275957],\n",
       "       [4.4755774],\n",
       "       [2.867058 ],\n",
       "       [3.5481253],\n",
       "       [3.8601177],\n",
       "       [4.693903 ],\n",
       "       [3.163648 ],\n",
       "       [4.0279274],\n",
       "       [4.652794 ],\n",
       "       [2.6287546],\n",
       "       [1.8922373],\n",
       "       [4.708251 ],\n",
       "       [4.612594 ],\n",
       "       [4.5408616]], dtype=float32)"
      ]
     },
     "execution_count": 58,
     "metadata": {},
     "output_type": "execute_result"
    }
   ],
   "source": [
    "Y_pred_test[0:15]"
   ]
  },
  {
   "cell_type": "code",
   "execution_count": 59,
   "metadata": {},
   "outputs": [],
   "source": [
    "resultat = pd.DataFrame(columns=['id', 'score'])"
   ]
  },
  {
   "cell_type": "code",
   "execution_count": 60,
   "metadata": {},
   "outputs": [],
   "source": [
    "score_test = []\n",
    "for pred in Y_pred_test:\n",
    "    score_test.append(pred[0])"
   ]
  },
  {
   "cell_type": "code",
   "execution_count": 61,
   "metadata": {},
   "outputs": [
    {
     "data": {
      "text/html": [
       "<div>\n",
       "<style scoped>\n",
       "    .dataframe tbody tr th:only-of-type {\n",
       "        vertical-align: middle;\n",
       "    }\n",
       "\n",
       "    .dataframe tbody tr th {\n",
       "        vertical-align: top;\n",
       "    }\n",
       "\n",
       "    .dataframe thead th {\n",
       "        text-align: right;\n",
       "    }\n",
       "</style>\n",
       "<table border=\"1\" class=\"dataframe\">\n",
       "  <thead>\n",
       "    <tr style=\"text-align: right;\">\n",
       "      <th></th>\n",
       "      <th>id</th>\n",
       "      <th>score</th>\n",
       "    </tr>\n",
       "  </thead>\n",
       "  <tbody>\n",
       "    <tr>\n",
       "      <td>0</td>\n",
       "      <td>100000</td>\n",
       "      <td>4.221200</td>\n",
       "    </tr>\n",
       "    <tr>\n",
       "      <td>1</td>\n",
       "      <td>100001</td>\n",
       "      <td>4.327596</td>\n",
       "    </tr>\n",
       "    <tr>\n",
       "      <td>2</td>\n",
       "      <td>100002</td>\n",
       "      <td>4.475577</td>\n",
       "    </tr>\n",
       "    <tr>\n",
       "      <td>3</td>\n",
       "      <td>100003</td>\n",
       "      <td>2.867058</td>\n",
       "    </tr>\n",
       "    <tr>\n",
       "      <td>4</td>\n",
       "      <td>100004</td>\n",
       "      <td>3.548125</td>\n",
       "    </tr>\n",
       "  </tbody>\n",
       "</table>\n",
       "</div>"
      ],
      "text/plain": [
       "       id     score\n",
       "0  100000  4.221200\n",
       "1  100001  4.327596\n",
       "2  100002  4.475577\n",
       "3  100003  2.867058\n",
       "4  100004  3.548125"
      ]
     },
     "execution_count": 61,
     "metadata": {},
     "output_type": "execute_result"
    }
   ],
   "source": [
    "resultat['score'] = score_test\n",
    "resultat['id'] = data_test['id']\n",
    "\n",
    "resultat.head()"
   ]
  },
  {
   "cell_type": "code",
   "execution_count": null,
   "metadata": {},
   "outputs": [],
   "source": [
    "resultat.to_csv('./results/siamese_nn.csv', index=False)"
   ]
  },
  {
   "cell_type": "code",
   "execution_count": null,
   "metadata": {},
   "outputs": [],
   "source": []
  }
 ],
 "metadata": {
  "kernelspec": {
   "display_name": "Python 3",
   "language": "python",
   "name": "python3"
  },
  "language_info": {
   "codemirror_mode": {
    "name": "ipython",
    "version": 3
   },
   "file_extension": ".py",
   "mimetype": "text/x-python",
   "name": "python",
   "nbconvert_exporter": "python",
   "pygments_lexer": "ipython3",
   "version": "3.7.4"
  }
 },
 "nbformat": 4,
 "nbformat_minor": 4
}
